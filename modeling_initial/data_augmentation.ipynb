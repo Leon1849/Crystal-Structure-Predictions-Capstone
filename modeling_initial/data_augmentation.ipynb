{
 "cells": [
  {
   "cell_type": "code",
   "execution_count": 11,
   "metadata": {},
   "outputs": [],
   "source": [
    "import os\n",
    "import requests\n",
    "import pandas as pd\n",
    "from tqdm import tqdm\n",
    "from concurrent.futures import ThreadPoolExecutor"
   ]
  },
  {
   "cell_type": "markdown",
   "metadata": {},
   "source": [
    "-- some warning\n",
    "--  DtypeWarning: Columns (24,38,44,45,46) have mixed types. Specify dtype option on import or set low_memory=False.\n",
    "  df = pd.read_csv(r\"./data/COD-selection.csv\")"
   ]
  },
  {
   "cell_type": "code",
   "execution_count": 7,
   "metadata": {},
   "outputs": [],
   "source": [
    "df = pd.read_csv(\"./data/COD-selection.csv\", low_memory=False)"
   ]
  },
  {
   "cell_type": "code",
   "execution_count": 8,
   "metadata": {},
   "outputs": [],
   "source": [
    "df[\"file_link\"] = df[\"file\"].apply(lambda x: f\"https://www.crystallography.net/cod/{x}.cif\")\n",
    "output_dir = \"./data/cifs\"\n",
    "os.makedirs(output_dir, exist_ok=True)\n",
    "df[\"local_path\"] = df[\"file\"].apply(lambda x: os.path.join(output_dir, f\"{x}.cif\"))"
   ]
  },
  {
   "cell_type": "code",
   "execution_count": 10,
   "metadata": {},
   "outputs": [],
   "source": [
    "rows = df[[\"file_link\", \"local_path\"]].to_dict(orient=\"records\")"
   ]
  },
  {
   "cell_type": "code",
   "execution_count": 9,
   "metadata": {},
   "outputs": [],
   "source": [
    "def download_cif(row):\n",
    "    url = row[\"file_link\"]\n",
    "    path = row[\"local_path\"]\n",
    "    if os.path.exists(path):\n",
    "        return\n",
    "    try:\n",
    "        response = requests.get(url, timeout=10)\n",
    "        if response.status_code == 200:\n",
    "            with open(path, \"wb\") as f:\n",
    "                f.write(response.content)\n",
    "    except:\n",
    "        pass"
   ]
  },
  {
   "cell_type": "code",
   "execution_count": 12,
   "metadata": {},
   "outputs": [
    {
     "name": "stderr",
     "output_type": "stream",
     "text": [
      "Parallel CIF Download:   1%|          | 107/11328 [02:06<4:28:35,  1.44s/it]"
     ]
    }
   ],
   "source": [
    "with ThreadPoolExecutor(max_workers=16) as executor:\n",
    "    list(tqdm(executor.map(download_cif, rows), total=len(rows), desc=\"Parallel CIF Download\"))"
   ]
  },
  {
   "cell_type": "code",
   "execution_count": null,
   "metadata": {},
   "outputs": [],
   "source": []
  }
 ],
 "metadata": {
  "kernelspec": {
   "display_name": "base",
   "language": "python",
   "name": "python3"
  },
  "language_info": {
   "codemirror_mode": {
    "name": "ipython",
    "version": 3
   },
   "file_extension": ".py",
   "mimetype": "text/x-python",
   "name": "python",
   "nbconvert_exporter": "python",
   "pygments_lexer": "ipython3",
   "version": "3.9.7"
  },
  "orig_nbformat": 4
 },
 "nbformat": 4,
 "nbformat_minor": 2
}
